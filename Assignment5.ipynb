{
 "cells": [
  {
   "cell_type": "code",
   "execution_count": 2,
   "metadata": {},
   "outputs": [
    {
     "name": "stdout",
     "output_type": "stream",
     "text": [
      "Minimum Age : 19 Max age = 26\n",
      "Median :  24\n",
      "Average Ages :  22.8\n",
      "Range of ages  7\n"
     ]
    }
   ],
   "source": [
    "ages = [19,22, 19, 24, 20, 25, 26, 24, 25, 24]\n",
    "\n",
    "ages.sort()\n",
    "\n",
    "print(\"Minimum Age :\",ages[0],\"Max age =\",ages[-1])\n",
    "mid = len(ages)//2\n",
    "print(\"Median : \",(ages[mid]+ages[mid+1])//2)\n",
    "print(\"Average Ages : \",sum(ages)/len(ages))\n",
    "print(\"Range of ages \",max(ages)-min(ages))\n"
   ]
  },
  {
   "cell_type": "code",
   "execution_count": 4,
   "metadata": {},
   "outputs": [
    {
     "name": "stdout",
     "output_type": "stream",
     "text": [
      "Length = 9\n",
      "['Python', 'ML', 'Java', 'AI'] <class 'list'>\n",
      "dict_keys(['first_name', 'last_name', 'gender', 'age', 'marital_status', 'skills', 'country', 'city', 'address'])\n",
      "dict_values(['Tejaswi reddy', 'Marri', 'female', 23, 'Unmarried', ['Python', 'ML', 'Java', 'AI', 'Dancing', 'Cooking'], 'India', 'Hyderabad', 'bowenpally'])\n"
     ]
    }
   ],
   "source": [
    "dog = {\"name\":\"Tommy\", \"color\":\"Brown\", \"breed\":\"Golden retriever\", \"legs\":4, \"age\":1}\n",
    "student = { \"first_name\":\"Tejaswi reddy\", \"last_name\":\"Marri\", \"gender\":\"female\", \"age\":23, \"marital_status\":\"Unmarried\", \"skills\":[\"Python\",\"ML\",\"Java\",\"AI\"], \"country\":\"India\", \n",
    "           \"city\":\"Hyderabad\", \"address\":\"bowenpally\"}\n",
    "\n",
    "print(\"Length =\",len(student))\n",
    "print(student[\"skills\"],type(student[\"skills\"]))\n",
    "student[\"skills\"].append(\"Dancing\")\n",
    "student[\"skills\"].append(\"Cooking\")\n",
    "print(student.keys())\n",
    "print(student.values())"
   ]
  },
  {
   "cell_type": "code",
   "execution_count": 5,
   "metadata": {},
   "outputs": [
    {
     "name": "stdout",
     "output_type": "stream",
     "text": [
      "('mahesh', 'Rithwik', 'revanth', 'Chitra', 'Namrutha', 'srujana', 'manaswi')\n"
     ]
    }
   ],
   "source": [
    "brothers = (\"mahesh\",\"Rithwik\",\"revanth\")\n",
    "sisters = (\"Chitra\",\"Namrutha\",\"srujana\",\"manaswi\")\n",
    "siblings = brothers+sisters\n",
    "print(siblings)\n",
    "     "
   ]
  },
  {
   "cell_type": "code",
   "execution_count": 5,
   "metadata": {},
   "outputs": [
    {
     "name": "stdout",
     "output_type": "stream",
     "text": [
      "Length of It Companies = 7\n",
      "{19, 20, 22, 24, 25, 26, 27, 28}\n",
      "{19, 20, 22, 24, 25, 26}\n",
      "True\n",
      "{27, 28}\n",
      "Length of the set : 5 Length of the list : 8 length of set greater than length of list? 5\n"
     ]
    }
   ],
   "source": [
    "it_companies = {'Facebook', 'Google', 'Microsoft', 'Apple', 'IBM', 'Oracle', 'Amazon'}\n",
    "A = {19, 22, 24, 20, 25, 26}\n",
    "B = {19, 22, 20, 25, 26, 24, 28, 27}\n",
    "age = [22, 19, 24, 25, 26, 24, 25, 24]\n",
    "\n",
    "print(\"Length of It Companies =\",len(it_companies))\n",
    "\n",
    "it_companies.add(\"Twitter\")\n",
    "\n",
    "it_companies.update({\"TCS\",\"Accenture\"})\n",
    "\n",
    "it_companies.remove(\"Accenture\")\n",
    "\n",
    "print(A|B)\n",
    "print(A.intersection(B))\n",
    "print(A.issubset(B))\n",
    "print(A.symmetric_difference(B))\n",
    "\n",
    "del A,B\n",
    "\n",
    "age_set = set(age)\n",
    "\n",
    "print(\"Length of the set :\",len(age_set),\"Length of the list :\",len(age), \"length of set greater than length of list?\",len(age_set))\n"
   ]
  },
  {
   "cell_type": "code",
   "execution_count": 1,
   "metadata": {},
   "outputs": [
    {
     "name": "stdout",
     "output_type": "stream",
     "text": [
      "area of circle : 2826.0\n",
      "circumference of circle : 190.2\n"
     ]
    },
    {
     "ename": "",
     "evalue": "",
     "output_type": "error",
     "traceback": [
      "\u001b[1;31mCanceled future for execute_request message before replies were done"
     ]
    }
   ],
   "source": [
    "r=30\n",
    "_area_of_circle=3.14*(r**2)\n",
    "print(\"area of circle :\",_area_of_circle)\n",
    "_circum_of_circle=2*3.17*r\n",
    "print(\"circumference of circle :\",_circum_of_circle)\n",
    "n=int(input())\n",
    "area=3.14*(n**2)\n",
    "print(\"Area of circle with user input :\",area)\n"
   ]
  },
  {
   "cell_type": "code",
   "execution_count": 6,
   "metadata": {},
   "outputs": [],
   "source": [
    "\n",
    "radius = int(input(\"radius: \"))\n",
    "\n",
    "_area_of_circle_ = 3.14*radius*radius\n",
    "_circum_of_circle_ = 2*3.14*radius\n"
   ]
  },
  {
   "cell_type": "code",
   "execution_count": 1,
   "metadata": {},
   "outputs": [
    {
     "name": "stdout",
     "output_type": "stream",
     "text": [
      "{'and', 'to', 'am', 'love', 'teacher', 'people', 'a', 'teach', 'inspire', 'I'}\n",
      "10\n"
     ]
    }
   ],
   "source": [
    "s =\"I am a teacher and I love to inspire and teach people\"\n",
    "l=set(s.split(\" \"))\n",
    "print(l)\n",
    "print(len(l))"
   ]
  },
  {
   "cell_type": "code",
   "execution_count": 6,
   "metadata": {},
   "outputs": [
    {
     "name": "stdout",
     "output_type": "stream",
     "text": [
      "Name\t\tAge\tCountry\t\tCity\n",
      "Asabeneh\t250\tFinland\t\tHelsinki\n"
     ]
    }
   ],
   "source": [
    "print(\"Name\\t\\tAge\\tCountry\\t\\tCity\")\n",
    "print(\"Asabeneh\\t250\\tFinland\\t\\tHelsinki\")"
   ]
  },
  {
   "cell_type": "code",
   "execution_count": 7,
   "metadata": {},
   "outputs": [
    {
     "name": "stdout",
     "output_type": "stream",
     "text": [
      "Radius = 10\n",
      "area = 3.14 * radius ** 2\n",
      "The area of a circle with radius 10 is 314 meters square.\n"
     ]
    }
   ],
   "source": [
    "radius = 10\n",
    "print(\"Radius = {0}\".format(radius))\n",
    "\n",
    "print(\"area = {0} * radius ** 2\".format(3.14))\n",
    "\n",
    "print(\"The area of a circle with radius {0} is {1} meters square.\".format(10,int(3.14* 10 **2)))\n"
   ]
  },
  {
   "cell_type": "code",
   "execution_count": 3,
   "metadata": {},
   "outputs": [
    {
     "name": "stdout",
     "output_type": "stream",
     "text": [
      "[23, 45, 67]\n",
      "[10.43, 20.41, 30.39]\n"
     ]
    }
   ],
   "source": [
    "n=int(input(\"Enter number of student's weight to be calculated\"))\n",
    "weights_in_lbs=[]\n",
    "weights_in_kg=[]\n",
    "#appending the elements into the list\n",
    "for i in range(n):\n",
    "    weights_in_lbs.append(int(input(\"weight {} \\n\".format(i+1))))\n",
    "print(weights_in_lbs)\n",
    "#converting lbs to kilogram with exactly 2 decimal places\n",
    "for i in range(len(weights_in_lbs)):\n",
    "    lbs=0.45359237 #1lbs= 0.45359237kg\n",
    "    temp=round(weights_in_lbs[i]*lbs,2)\n",
    "    weights_in_kg.append(temp)\n",
    "    temp=0\n",
    "print(weights_in_kg)"
   ]
  }
 ],
 "metadata": {
  "kernelspec": {
   "display_name": "Python 3",
   "language": "python",
   "name": "python3"
  },
  "language_info": {
   "codemirror_mode": {
    "name": "ipython",
    "version": 3
   },
   "file_extension": ".py",
   "mimetype": "text/x-python",
   "name": "python",
   "nbconvert_exporter": "python",
   "pygments_lexer": "ipython3",
   "version": "3.10.6"
  },
  "orig_nbformat": 4,
  "vscode": {
   "interpreter": {
    "hash": "26de051ba29f2982a8de78e945f0abaf191376122a1563185a90213a26c5da77"
   }
  }
 },
 "nbformat": 4,
 "nbformat_minor": 2
}
